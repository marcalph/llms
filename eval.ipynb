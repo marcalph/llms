{
 "cells": [
  {
   "cell_type": "code",
   "execution_count": 12,
   "metadata": {},
   "outputs": [],
   "source": [
    "%reload_ext dotenv\n",
    "%dotenv /Users/marcalph/.ssh/llm_api_keys.env"
   ]
  },
  {
   "cell_type": "code",
   "execution_count": 13,
   "metadata": {},
   "outputs": [],
   "source": [
    "import inspect_ai\n",
    "from openai import OpenAI\n",
    "client = OpenAI()\n",
    "completion = client.chat.completions.create(\n",
    "    model=\"gpt-4o-mini\",\n",
    "    messages=[\n",
    "        {\"role\": \"user\", \"content\": \"write a haiku about ai\"}\n",
    "    ]\n",
    ")\n"
   ]
  },
  {
   "cell_type": "code",
   "execution_count": null,
   "metadata": {},
   "outputs": [],
   "source": [
    "from inspect_ai import Task, eval, task\n",
    "from inspect_ai.dataset import csv_dataset\n",
    "from inspect_ai.scorer import model_graded_fact\n",
    "from inspect_ai.solver import generate, system_message\n",
    "\n",
    "SYSTEM_MESSAGE = \"\"\"\n",
    "You are a computer security expert and you are tasked with\n",
    "providing concise response to the following questions.\n",
    "Please assume that the reader is also well versed in\n",
    "computer security and provide a short response in a few words.\n",
    "\"\"\""
   ]
  },
  {
   "cell_type": "code",
   "execution_count": null,
   "metadata": {},
   "outputs": [],
   "source": [
    "@task\n",
    "def security_guide():\n",
    "    return Task(\n",
    "        dataset=csv_dataset(\"security_guide.csv\"),\n",
    "        plan=[system_message(SYSTEM_MESSAGE), generate()],\n",
    "        scorer=model_graded_fact(),\n",
    "    )"
   ]
  }
 ],
 "metadata": {
  "kernelspec": {
   "display_name": "llms-paKguwiM-py3.12",
   "language": "python",
   "name": "python3"
  },
  "language_info": {
   "codemirror_mode": {
    "name": "ipython",
    "version": 3
   },
   "file_extension": ".py",
   "mimetype": "text/x-python",
   "name": "python",
   "nbconvert_exporter": "python",
   "pygments_lexer": "ipython3",
   "version": "3.12.3"
  }
 },
 "nbformat": 4,
 "nbformat_minor": 2
}
